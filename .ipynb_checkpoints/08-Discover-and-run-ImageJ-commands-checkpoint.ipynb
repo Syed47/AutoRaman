{
 "cells": [
  {
   "attachments": {},
   "cell_type": "markdown",
   "metadata": {},
   "source": [
    "This notebook is part of the PyImageJ [Tutorial Series](./notebooks.rst), and assumes familiarity with the ImageJ API. Dedicated tutorials for ImageJ can be found [here](https://imagej.net/tutorials/)."
   ]
  },
  {
   "attachments": {},
   "cell_type": "markdown",
   "metadata": {},
   "source": [
    "# 8 Discover ImageJ commands with the Recorder\n",
    "\n",
    "The original ImageJ contains many useful commands that can be hard to use in PyImageJ without some prior knowledge on the their parameters. This notebook demonstrates how to use ImageJ's `Recorder` feature to record ImageJ commands in a supported language (`IJ Macro`, `BeanScript`, `Java` and `JavaScript`). \n",
    "\n",
    "## 8.1 Example 1: Apply \"Find Maxima...\" command to an image\n",
    "\n",
    "In this example we will use \"Find Maxima\" on a test image. Once the image is loaded, open the `Recorder` (see image below) and begin running commands to capture the code lines.\n",
    "\n",
    "![Open macro recorder](doc-images/imagej_ui_macro_recorder.png)"
   ]
  },
  {
   "attachments": {},
   "cell_type": "markdown",
   "metadata": {},
   "source": [
    "Now that the `Recorder` window is open and listening for commands, set the recorder language to either `Java` or `JavaScript` before running the \"Find Maxima...\" command. Next run the \"Find Maxima...\" command (**Process** > **Find Maxima...**) to capture the code lines.\n",
    "\n",
    "![Macro recorder](doc-images/macro_recorder_find_maxima.png)"
   ]
  },
  {
   "attachments": {},
   "cell_type": "markdown",
   "metadata": {},
   "source": [
    "Running \"Find Maxima...\" (set to `prominence=1000` and `Point Selection`) on `test_still.tif` results in 21 detections which are then overlayed over the input image.:\n",
    "\n",
    "![Result](doc-images/test_still_find_maxima.png)"
   ]
  },
  {
   "attachments": {},
   "cell_type": "markdown",
   "metadata": {},
   "source": [
    "Now that we have the `Java` code for the \"Find Maxima...\" command we can replicate this workflow in PyImageJ. The \"Find Maxima...\" command will overlay detections ontop of a displayed input image, therefore we will need to initialize ImageJ in `interactive` mode. Please note that MacOS users will have to change the mode to `gui` due to architecture limitations. For more information please visit the [initialization](Initialization.md) documentation."
   ]
  },
  {
   "cell_type": "code",
   "execution_count": 9,
   "metadata": {},
   "outputs": [
    {
     "name": "stdout",
     "output_type": "stream",
     "text": [
      "ImageJ2 version: 2.15.0/Inactive\n"
     ]
    }
   ],
   "source": [
    "import imagej\n",
    "\n",
    "# initialize ImageJ2\n",
    "ij = imagej.init(mode='headless')\n",
    "print(f\"ImageJ2 version: {ij.getVersion()}\")"
   ]
  },
  {
   "attachments": {},
   "cell_type": "markdown",
   "metadata": {},
   "source": [
    "Because the \"Find Maxima...\" and other original ImageJ commands work with the `ImagePlus` object type (instead of the newer ImageJ2/ImgLib2 `Dataset` and `ImgPlus` object types) we need to first convert the `Dataset` returned from `ij.io().open()` to an `ImagePlus`."
   ]
  },
  {
   "cell_type": "code",
   "execution_count": 10,
   "metadata": {},
   "outputs": [
    {
     "name": "stderr",
     "output_type": "stream",
     "text": [
      "[java.lang.Enum.toString] [INFO] Populating metadata\n",
      "[java.lang.Enum.toString] [INFO] Populating metadata\n",
      "[java.lang.Enum.toString] [INFO] Populating metadata\n",
      "[java.lang.Enum.toString] [INFO] Populating metadata\n",
      "[java.lang.Enum.toString] [INFO] Populating metadata\n",
      "[java.lang.Enum.toString] [INFO] Populating metadata\n",
      "Operating in headless mode - the original ImageJ will have limited functionality.\n"
     ]
    },
    {
     "ename": "ImportError",
     "evalue": "The original ImageJ is not available in this environment. Conversion to ImagePlus is not supported. See: https://github.com/imagej/pyimagej/blob/main/doc/Initialization.md",
     "output_type": "error",
     "traceback": [
      "\u001b[1;31m---------------------------------------------------------------------------\u001b[0m",
      "\u001b[1;31mImportError\u001b[0m                               Traceback (most recent call last)",
      "Cell \u001b[1;32mIn[10], line 3\u001b[0m\n\u001b[0;32m      1\u001b[0m \u001b[38;5;66;03m# open test image and convert from Dataset to ImagePlus\u001b[39;00m\n\u001b[0;32m      2\u001b[0m dataset \u001b[38;5;241m=\u001b[39m ij\u001b[38;5;241m.\u001b[39mio()\u001b[38;5;241m.\u001b[39mopen(\u001b[38;5;124m'\u001b[39m\u001b[38;5;124mclown.jpg\u001b[39m\u001b[38;5;124m'\u001b[39m)\n\u001b[1;32m----> 3\u001b[0m imp \u001b[38;5;241m=\u001b[39m \u001b[43mij\u001b[49m\u001b[38;5;241;43m.\u001b[39;49m\u001b[43mpy\u001b[49m\u001b[38;5;241;43m.\u001b[39;49m\u001b[43mto_imageplus\u001b[49m\u001b[43m(\u001b[49m\u001b[43mdataset\u001b[49m\u001b[43m)\u001b[49m\n\u001b[0;32m      5\u001b[0m \u001b[38;5;66;03m# show the image\u001b[39;00m\n\u001b[0;32m      6\u001b[0m ij\u001b[38;5;241m.\u001b[39mpy\u001b[38;5;241m.\u001b[39mshow(imp)\n",
      "File \u001b[1;32m~\\AppData\\Local\\Programs\\Python\\Python311\\Lib\\site-packages\\imagej\\__init__.py:485\u001b[0m, in \u001b[0;36mImageJPython.to_imageplus\u001b[1;34m(self, data)\u001b[0m\n\u001b[0;32m    476\u001b[0m \u001b[38;5;28;01mdef\u001b[39;00m \u001b[38;5;21mto_imageplus\u001b[39m(\u001b[38;5;28mself\u001b[39m, data):\n\u001b[0;32m    477\u001b[0m \u001b[38;5;250m    \u001b[39m\u001b[38;5;124;03m\"\"\"Convert the data into an ImageJ ImagePlus.\u001b[39;00m\n\u001b[0;32m    478\u001b[0m \n\u001b[0;32m    479\u001b[0m \u001b[38;5;124;03m    Converts a Python image (e.g. xarray or numpy array) or Java image (e.g.\u001b[39;00m\n\u001b[1;32m   (...)\u001b[0m\n\u001b[0;32m    483\u001b[0m \u001b[38;5;124;03m    :return: An ij.ImagePlus.\u001b[39;00m\n\u001b[0;32m    484\u001b[0m \u001b[38;5;124;03m    \"\"\"\u001b[39;00m\n\u001b[1;32m--> 485\u001b[0m     \u001b[38;5;28;43mself\u001b[39;49m\u001b[38;5;241;43m.\u001b[39;49m\u001b[43m_ij\u001b[49m\u001b[38;5;241;43m.\u001b[39;49m\u001b[43m_check_legacy_active\u001b[49m\u001b[43m(\u001b[49m\u001b[38;5;124;43m\"\u001b[39;49m\u001b[38;5;124;43mConversion to ImagePlus is not supported.\u001b[39;49m\u001b[38;5;124;43m\"\u001b[39;49m\u001b[43m)\u001b[49m\n\u001b[0;32m    486\u001b[0m     \u001b[38;5;28;01mreturn\u001b[39;00m \u001b[38;5;28mself\u001b[39m\u001b[38;5;241m.\u001b[39m_ij\u001b[38;5;241m.\u001b[39mconvert()\u001b[38;5;241m.\u001b[39mconvert(\u001b[38;5;28mself\u001b[39m\u001b[38;5;241m.\u001b[39mto_dataset(data), jc\u001b[38;5;241m.\u001b[39mImagePlus)\n",
      "File \u001b[1;32m~\\AppData\\Local\\Programs\\Python\\Python311\\Lib\\site-packages\\imagej\\__init__.py:819\u001b[0m, in \u001b[0;36mGatewayAddons._check_legacy_active\u001b[1;34m(self, usage_context)\u001b[0m\n\u001b[0;32m    817\u001b[0m \u001b[38;5;28;01mdef\u001b[39;00m \u001b[38;5;21m_check_legacy_active\u001b[39m(\u001b[38;5;28mself\u001b[39m, usage_context\u001b[38;5;241m=\u001b[39m\u001b[38;5;124m\"\u001b[39m\u001b[38;5;124m\"\u001b[39m):\n\u001b[0;32m    818\u001b[0m     \u001b[38;5;28;01mif\u001b[39;00m \u001b[38;5;129;01mnot\u001b[39;00m \u001b[38;5;28mself\u001b[39m\u001b[38;5;241m.\u001b[39mlegacy \u001b[38;5;129;01mor\u001b[39;00m \u001b[38;5;129;01mnot\u001b[39;00m \u001b[38;5;28mself\u001b[39m\u001b[38;5;241m.\u001b[39mlegacy\u001b[38;5;241m.\u001b[39misActive():\n\u001b[1;32m--> 819\u001b[0m         \u001b[38;5;28;01mraise\u001b[39;00m \u001b[38;5;167;01mImportError\u001b[39;00m(\n\u001b[0;32m    820\u001b[0m             \u001b[38;5;124m\"\u001b[39m\u001b[38;5;124mThe original ImageJ is not available in this environment. \u001b[39m\u001b[38;5;124m\"\u001b[39m\n\u001b[0;32m    821\u001b[0m             \u001b[38;5;124mf\u001b[39m\u001b[38;5;124m\"\u001b[39m\u001b[38;5;132;01m{\u001b[39;00musage_context\u001b[38;5;132;01m}\u001b[39;00m\u001b[38;5;124m See: \u001b[39m\u001b[38;5;124m\"\u001b[39m\n\u001b[0;32m    822\u001b[0m             \u001b[38;5;124m\"\u001b[39m\u001b[38;5;124mhttps://github.com/imagej/pyimagej/blob/main/doc/Initialization.md\u001b[39m\u001b[38;5;124m\"\u001b[39m\n\u001b[0;32m    823\u001b[0m         )\n",
      "\u001b[1;31mImportError\u001b[0m: The original ImageJ is not available in this environment. Conversion to ImagePlus is not supported. See: https://github.com/imagej/pyimagej/blob/main/doc/Initialization.md"
     ]
    }
   ],
   "source": [
    "# open test image and convert from Dataset to ImagePlus\n",
    "dataset = ij.io().open(\"C:\\\\Users\\\\19719431\\\\Fiji.app\\\\clown.jpg\")\n",
    "imp = ij.py.to_imageplus(dataset)\n",
    "\n",
    "# show the image\n",
    "ij.py.show(imp)"
   ]
  },
  {
   "attachments": {},
   "cell_type": "markdown",
   "metadata": {},
   "source": [
    "Next, show the image with ImageJ and run `Find Maxima...` using the same `Java` syntax generated from the recorder."
   ]
  },
  {
   "cell_type": "code",
   "execution_count": 3,
   "metadata": {},
   "outputs": [
    {
     "name": "stderr",
     "output_type": "stream",
     "text": [
      "[java.lang.Enum.toString] [INFO] null = img[\"clown.jpg\" (-3), 8-bit, 320x200x3x1x1]\n",
      "Operating in headless mode - the IJ class will not be fully functional.\n",
      "[java.lang.Enum.toString] [INFO] null = img[\"clown.jpg\" (-3), 8-bit, 320x200x3x1x1]\n"
     ]
    }
   ],
   "source": [
    "# show image and then find maxima\n",
    "imp.getProcessor().resetMinAndMax()\n",
    "ij.ui().show(imp)\n",
    "ij.IJ.run(imp, \"Find Maxima...\", \"prominence=1000 output=[Point Selection]\")\n",
    "ij.ui().show(imp)"
   ]
  },
  {
   "attachments": {},
   "cell_type": "markdown",
   "metadata": {},
   "source": [
    "## 8.2 Example 2: Extract a slice and run \"Analyze Particles...\"\n",
    "\n",
    "Let's try a more complicated example next. This Java code was generated with the ImageJ Recorder while analyzing some data.\n",
    "\n",
    "```java\n",
    "imp = IJ.openImage(\"sample-data/test_timeseries.tif\");\n",
    "imp2 = new Duplicator().run(imp, 3, 3, 1, 1, 14, 14);\n",
    "IJ.run(imp, \"Enhance Contrast\", \"saturated=0.35\");\n",
    "IJ.setAutoThreshold(imp, \"Moments dark\");\n",
    "IJ.run(imp, \"Analyze Particles...\", \"  show=Overlay display clear\");\n",
    "```\n",
    "\n",
    "The Java code takes the `test_timeseries.tif` sample data (4D: [X, Y, Channel, Time]) and performs the following operations:\n",
    "\n",
    "1. Open the test data.\n",
    "2. Duplicate channel 3, frame 14 (extracts a single still from the timeseries).\n",
    "3. Enhance the contrast of the image.\n",
    "4. Threshold with \"Moments dark\".\n",
    "5. Analyze particles and display results via overlay.\n",
    "\n",
    "**Results:**\n",
    "\n",
    "![Analyze Particles](doc-images/test_still_analyze_particles.png)\n",
    "\n",
    "Note that in this example we will use the orginal ImageJ's image opener (`IJ.openImage()`) instead of ImageJ2's (`ij.io().open()`). The original ImageJ's opener is more limited than ImageJ2's however it will return an `ImagePlus` image object instead of a `Dataset`, thus no conversion step is needed like in the previous example.\n",
    "\n",
    "Just like in the _Example 1_ the `Java` code generated from the Recorder can be typically used with little to no modification for language syntax (take note of the different syntax needed to use the `Duplicator`):"
   ]
  },
  {
   "cell_type": "code",
   "execution_count": 4,
   "metadata": {},
   "outputs": [
    {
     "ename": "java.lang.NullPointerException",
     "evalue": "java.lang.NullPointerException",
     "output_type": "error",
     "traceback": [
      "\u001b[1;31m---------------------------------------------------------------------------\u001b[0m",
      "\u001b[1;31mException\u001b[0m                                 Traceback (most recent call last)",
      "File \u001b[1;32mDuplicator.java:397\u001b[0m, in \u001b[0;36mij.plugin.Duplicator.run\u001b[1;34m()\u001b[0m\n",
      "\u001b[1;31mException\u001b[0m: Java Exception",
      "\nThe above exception was the direct cause of the following exception:\n",
      "\u001b[1;31mjava.lang.NullPointerException\u001b[0m            Traceback (most recent call last)",
      "Cell \u001b[1;32mIn[4], line 8\u001b[0m\n\u001b[0;32m      6\u001b[0m \u001b[38;5;66;03m# run ImageJ commands\u001b[39;00m\n\u001b[0;32m      7\u001b[0m imp_timeseries \u001b[38;5;241m=\u001b[39m ij\u001b[38;5;241m.\u001b[39mIJ\u001b[38;5;241m.\u001b[39mopenImage(\u001b[38;5;124m\"\u001b[39m\u001b[38;5;124msample-data/test_timeseries.tif\u001b[39m\u001b[38;5;124m\"\u001b[39m)\n\u001b[1;32m----> 8\u001b[0m imp_extract \u001b[38;5;241m=\u001b[39m \u001b[43mDuplicator\u001b[49m\u001b[43m(\u001b[49m\u001b[43m)\u001b[49m\u001b[38;5;241;43m.\u001b[39;49m\u001b[43mrun\u001b[49m\u001b[43m(\u001b[49m\u001b[43mimp_timeseries\u001b[49m\u001b[43m,\u001b[49m\u001b[43m \u001b[49m\u001b[38;5;241;43m3\u001b[39;49m\u001b[43m,\u001b[49m\u001b[43m \u001b[49m\u001b[38;5;241;43m3\u001b[39;49m\u001b[43m,\u001b[49m\u001b[43m \u001b[49m\u001b[38;5;241;43m1\u001b[39;49m\u001b[43m,\u001b[49m\u001b[43m \u001b[49m\u001b[38;5;241;43m1\u001b[39;49m\u001b[43m,\u001b[49m\u001b[43m \u001b[49m\u001b[38;5;241;43m14\u001b[39;49m\u001b[43m,\u001b[49m\u001b[43m \u001b[49m\u001b[38;5;241;43m14\u001b[39;49m\u001b[43m)\u001b[49m \u001b[38;5;66;03m# visit the Javadoc for more info https://imagej.nih.gov/ij/developer/api/ij/ij/plugin/Duplicator.html\u001b[39;00m\n\u001b[0;32m      9\u001b[0m ij\u001b[38;5;241m.\u001b[39mIJ\u001b[38;5;241m.\u001b[39mrun(imp_extract, \u001b[38;5;124m\"\u001b[39m\u001b[38;5;124mEnhance Contrast\u001b[39m\u001b[38;5;124m\"\u001b[39m, \u001b[38;5;124m\"\u001b[39m\u001b[38;5;124msaturated=0.35\u001b[39m\u001b[38;5;124m\"\u001b[39m)\n\u001b[0;32m     10\u001b[0m ij\u001b[38;5;241m.\u001b[39mui()\u001b[38;5;241m.\u001b[39mshow(imp_extract)\n",
      "\u001b[1;31mjava.lang.NullPointerException\u001b[0m: java.lang.NullPointerException"
     ]
    }
   ],
   "source": [
    "from scyjava import jimport\n",
    "\n",
    "# get ImageJ's duplicator\n",
    "Duplicator = jimport('ij.plugin.Duplicator')\n",
    "\n",
    "# run ImageJ commands\n",
    "imp_timeseries = ij.IJ.openImage(\"sample-data/test_timeseries.tif\")\n",
    "imp_extract = Duplicator().run(imp_timeseries, 3, 3, 1, 1, 14, 14) # visit the Javadoc for more info https://imagej.nih.gov/ij/developer/api/ij/ij/plugin/Duplicator.html\n",
    "ij.IJ.run(imp_extract, \"Enhance Contrast\", \"saturated=0.35\")\n",
    "ij.ui().show(imp_extract)\n",
    "ij.IJ.setAutoThreshold(imp_extract, \"Moments dark\")\n",
    "ij.IJ.run(imp_extract, \"Analyze Particles...\", \" show=Overlay display clear\")"
   ]
  },
  {
   "attachments": {},
   "cell_type": "markdown",
   "metadata": {},
   "source": [
    "### ImageJ macro language\n",
    "\n",
    "It is possible to record workflows in the original ImageJ macro language and run those macros in PyImageJ with `ij.py.run_macro()` (see the[07-Running-Macros-Scripts-and-Plugins](07-Running-Macros-Scripts-and-Plugins.ipynb) notebook for more information). While this is functional, we do not recommend using the macro language as it is more fragile and less powerful due to the orignal ImageJ internal operations. For example, macros are single threaded only and do not take advantage of multi-threaded processing. For more information on ImageJ macro limitations please visit the [macro](https://imagej.net/scripting/macro#overcoming-limitations) wiki page."
   ]
  }
 ],
 "metadata": {
  "kernelspec": {
   "display_name": "Python 3 (ipykernel)",
   "language": "python",
   "name": "python3"
  },
  "language_info": {
   "codemirror_mode": {
    "name": "ipython",
    "version": 3
   },
   "file_extension": ".py",
   "mimetype": "text/x-python",
   "name": "python",
   "nbconvert_exporter": "python",
   "pygments_lexer": "ipython3",
   "version": "3.11.9"
  },
  "vscode": {
   "interpreter": {
    "hash": "fd4de699765e9fab70e2644720b91b55c1a435ebb41ccdac66a2b7a412168f61"
   }
  }
 },
 "nbformat": 4,
 "nbformat_minor": 4
}
